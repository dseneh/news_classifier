{
 "cells": [
  {
   "cell_type": "markdown",
   "metadata": {},
   "source": [
    "# News Classification app \n",
    "### Author : Evergreen Technologies \n",
    "\n",
    "#### This script loads pre-trained word embeddings (GloVe embeddings) into a frozen Keras Embedding layer, and uses it to train a text classification model on the 20 Newsgroup dataset  (classification of newsgroup messages into 20 different categories).\n",
    "\n",
    "#### '''GloVe embedding data can be found at:  http://nlp.stanford.edu/data/glove.6B.zip\n",
    "(source page: http://nlp.stanford.edu/projects/glove/)\n",
    "\n",
    "#### 20 Newsgroup data can be found at:\n",
    "http://www.cs.cmu.edu/afs/cs.cmu.edu/project/theo-20/www/data/news20.html\n"
   ]
  },
  {
   "cell_type": "code",
   "execution_count": 1,
   "metadata": {},
   "outputs": [
    {
     "name": "stderr",
     "output_type": "stream",
     "text": [
      "Using TensorFlow backend.\n"
     ]
    }
   ],
   "source": [
    "from __future__ import print_function\n",
    "import os\n",
    "import sys\n",
    "import numpy as np\n",
    "from keras.preprocessing.text import Tokenizer\n",
    "from keras.preprocessing.sequence import pad_sequences\n",
    "from keras.utils import to_categorical\n",
    "from keras.layers import Dense, Input, GlobalMaxPooling1D, Dropout\n",
    "from keras.layers import Conv1D, MaxPooling1D, Embedding\n",
    "from keras.models import Model\n",
    "from keras.initializers import Constant\n",
    "from matplotlib import pyplot\n",
    "from keras import backend as K\n",
    "\n"
   ]
  },
  {
   "cell_type": "code",
   "execution_count": 2,
   "metadata": {},
   "outputs": [],
   "source": [
    "def recall_m(y_true, y_pred):\n",
    "        true_positives = K.sum(K.round(K.clip(y_true * y_pred, 0, 1)))\n",
    "        possible_positives = K.sum(K.round(K.clip(y_true, 0, 1)))\n",
    "        recall = true_positives / (possible_positives + K.epsilon())\n",
    "        return recall\n",
    "\n",
    "def precision_m(y_true, y_pred):\n",
    "        true_positives = K.sum(K.round(K.clip(y_true * y_pred, 0, 1)))\n",
    "        predicted_positives = K.sum(K.round(K.clip(y_pred, 0, 1)))\n",
    "        precision = true_positives / (predicted_positives + K.epsilon())\n",
    "        return precision\n",
    "\n",
    "def f1_m(y_true, y_pred):\n",
    "    precision = precision_m(y_true, y_pred)\n",
    "    recall = recall_m(y_true, y_pred)\n",
    "    return 2*((precision*recall)/(precision+recall+K.epsilon()))\n"
   ]
  },
  {
   "cell_type": "code",
   "execution_count": 3,
   "metadata": {},
   "outputs": [
    {
     "name": "stdout",
     "output_type": "stream",
     "text": [
      "Indexing word vectors.\n",
      "Found 400000 word vectors.\n"
     ]
    }
   ],
   "source": [
    "\n",
    "BASE_DIR = '/Volumes/My Passport for Mac/data'\n",
    "GLOVE_DIR = os.path.join(BASE_DIR, 'glove.6B')\n",
    "TEXT_DATA_DIR = os.path.join(BASE_DIR, '20_newsgroup')\n",
    "MAX_SEQUENCE_LENGTH = 1000\n",
    "MAX_NUM_WORDS = 20000\n",
    "EMBEDDING_DIM = 100\n",
    "VALIDATION_SPLIT = 0.2\n",
    "\n",
    "# first, build index mapping words in the embeddings set\n",
    "# to their embedding vector\n",
    "\n",
    "print('Indexing word vectors.')\n",
    "\n",
    "embeddings_index = {}\n",
    "with open(os.path.join(GLOVE_DIR, 'glove.6B.100d.txt')) as f:\n",
    "    for line in f:\n",
    "        word, coefs = line.split(maxsplit=1)\n",
    "        coefs = np.fromstring(coefs, 'f', sep=' ')\n",
    "        embeddings_index[word] = coefs\n",
    "\n",
    "print('Found %s word vectors.' % len(embeddings_index))\n"
   ]
  },
  {
   "cell_type": "code",
   "execution_count": 4,
   "metadata": {},
   "outputs": [
    {
     "name": "stdout",
     "output_type": "stream",
     "text": [
      "Processing text dataset\n",
      "Found 19997 texts.\n"
     ]
    }
   ],
   "source": [
    "\n",
    "# second, prepare text samples and their labels\n",
    "print('Processing text dataset')\n",
    "\n",
    "texts = []  # list of text samples\n",
    "labels_index = {}  # dictionary mapping label name to numeric id\n",
    "labels = []  # list of label ids\n",
    "for name in sorted(os.listdir(TEXT_DATA_DIR)):\n",
    "    path = os.path.join(TEXT_DATA_DIR, name)\n",
    "    if os.path.isdir(path):\n",
    "        label_id = len(labels_index)\n",
    "        labels_index[name] = label_id\n",
    "        for fname in sorted(os.listdir(path)):\n",
    "            if fname.isdigit():\n",
    "                fpath = os.path.join(path, fname)\n",
    "                args = {} if sys.version_info < (3,) else {'encoding': 'latin-1'}\n",
    "                with open(fpath, **args) as f:\n",
    "                    t = f.read()\n",
    "                    i = t.find('\\n\\n')  # skip header\n",
    "                    if 0 < i:\n",
    "                        t = t[i:]\n",
    "                    texts.append(t)\n",
    "                labels.append(label_id)\n",
    "\n",
    "print('Found %s texts.' % len(texts))\n"
   ]
  },
  {
   "cell_type": "code",
   "execution_count": 5,
   "metadata": {},
   "outputs": [
    {
     "name": "stdout",
     "output_type": "stream",
     "text": [
      "Found 174074 unique tokens.\n",
      "Shape of data tensor: (19997, 1000)\n",
      "Shape of label tensor: (19997, 20)\n"
     ]
    }
   ],
   "source": [
    "\n",
    "# finally, vectorize the text samples into a 2D integer tensor\n",
    "tokenizer = Tokenizer(num_words=MAX_NUM_WORDS)\n",
    "tokenizer.fit_on_texts(texts)\n",
    "sequences = tokenizer.texts_to_sequences(texts)\n",
    "\n",
    "word_index = tokenizer.word_index\n",
    "print('Found %s unique tokens.' % len(word_index))\n",
    "\n",
    "data = pad_sequences(sequences, maxlen=MAX_SEQUENCE_LENGTH)\n",
    "\n",
    "labels = to_categorical(np.asarray(labels))\n",
    "print('Shape of data tensor:', data.shape)\n",
    "print('Shape of label tensor:', labels.shape)\n",
    "\n",
    "# split the data into a training set and a validation set\n",
    "indices = np.arange(data.shape[0])\n",
    "np.random.shuffle(indices)\n",
    "data = data[indices]\n",
    "labels = labels[indices]\n",
    "num_validation_samples = int(VALIDATION_SPLIT * data.shape[0])\n",
    "\n",
    "x_train = data[:-num_validation_samples]\n",
    "y_train = labels[:-num_validation_samples]\n",
    "x_val = data[-num_validation_samples:]\n",
    "y_val = labels[-num_validation_samples:]\n"
   ]
  },
  {
   "cell_type": "code",
   "execution_count": 8,
   "metadata": {},
   "outputs": [
    {
     "name": "stdout",
     "output_type": "stream",
     "text": [
      "Preparing embedding matrix.\n",
      "done\n"
     ]
    }
   ],
   "source": [
    "\n",
    "print('Preparing embedding matrix.')\n",
    "\n",
    "# prepare embedding matrix\n",
    "num_words = min(MAX_NUM_WORDS, len(word_index) + 1)\n",
    "embedding_matrix = np.zeros((num_words, EMBEDDING_DIM))\n",
    "for word, i in word_index.items():\n",
    "    if i >= MAX_NUM_WORDS:\n",
    "        continue\n",
    "    embedding_vector = embeddings_index.get(word)\n",
    "    if embedding_vector is not None:\n",
    "        # words not found in embedding index will be all-zeros.\n",
    "        embedding_matrix[i] = embedding_vector\n",
    "\n",
    "# load pre-trained word embeddings into an Embedding layer\n",
    "# note that we set trainable = False so as to keep the embeddings fixed\n",
    "embedding_layer = Embedding(num_words,\n",
    "                            EMBEDDING_DIM,\n",
    "                            embeddings_initializer=Constant(embedding_matrix),\n",
    "                            input_length=MAX_SEQUENCE_LENGTH,\n",
    "                            trainable=False)\n",
    "\n",
    "print(\"done\")"
   ]
  },
  {
   "cell_type": "code",
   "execution_count": 9,
   "metadata": {},
   "outputs": [
    {
     "name": "stdout",
     "output_type": "stream",
     "text": [
      "Training model.\n",
      "Train on 15998 samples, validate on 3999 samples\n",
      "Epoch 1/15\n",
      "15998/15998 [==============================] - 46s 3ms/step - loss: 2.4659 - acc: 0.1955 - f1_m: 0.0744 - precision_m: 0.4831 - recall_m: 0.0421 - val_loss: 1.9692 - val_acc: 0.3408 - val_f1_m: 0.1397 - val_precision_m: 0.7923 - val_recall_m: 0.0771\n",
      "Epoch 2/15\n",
      "15998/15998 [==============================] - 44s 3ms/step - loss: 1.6377 - acc: 0.4271 - f1_m: 0.3213 - precision_m: 0.6973 - recall_m: 0.2135 - val_loss: 1.5757 - val_acc: 0.4674 - val_f1_m: 0.3467 - val_precision_m: 0.8138 - val_recall_m: 0.2216\n",
      "Epoch 3/15\n",
      "15998/15998 [==============================] - 40s 3ms/step - loss: 1.2771 - acc: 0.5638 - f1_m: 0.5116 - precision_m: 0.7648 - recall_m: 0.3864 - val_loss: 1.2629 - val_acc: 0.5671 - val_f1_m: 0.4884 - val_precision_m: 0.8260 - val_recall_m: 0.3484\n",
      "Epoch 4/15\n",
      "15998/15998 [==============================] - 38s 2ms/step - loss: 1.0751 - acc: 0.6360 - f1_m: 0.6130 - precision_m: 0.7948 - recall_m: 0.5000 - val_loss: 1.1049 - val_acc: 0.6292 - val_f1_m: 0.5642 - val_precision_m: 0.8292 - val_recall_m: 0.4297\n",
      "Epoch 5/15\n",
      "15998/15998 [==============================] - 46s 3ms/step - loss: 0.9441 - acc: 0.6802 - f1_m: 0.6673 - precision_m: 0.8146 - recall_m: 0.5661 - val_loss: 1.0391 - val_acc: 0.6529 - val_f1_m: 0.6069 - val_precision_m: 0.8331 - val_recall_m: 0.4784\n",
      "Epoch 6/15\n",
      "15998/15998 [==============================] - 38s 2ms/step - loss: 0.8299 - acc: 0.7186 - f1_m: 0.7093 - precision_m: 0.8329 - recall_m: 0.6188 - val_loss: 0.9549 - val_acc: 0.6869 - val_f1_m: 0.6566 - val_precision_m: 0.8328 - val_recall_m: 0.5430\n",
      "Epoch 7/15\n",
      "15998/15998 [==============================] - 39s 2ms/step - loss: 0.7522 - acc: 0.7463 - f1_m: 0.7420 - precision_m: 0.8448 - recall_m: 0.6623 - val_loss: 0.8704 - val_acc: 0.7164 - val_f1_m: 0.6941 - val_precision_m: 0.8513 - val_recall_m: 0.5868\n",
      "Epoch 8/15\n",
      "15998/15998 [==============================] - 39s 2ms/step - loss: 0.6708 - acc: 0.7762 - f1_m: 0.7719 - precision_m: 0.8617 - recall_m: 0.6998 - val_loss: 0.8375 - val_acc: 0.7299 - val_f1_m: 0.7174 - val_precision_m: 0.8398 - val_recall_m: 0.6273\n",
      "Epoch 9/15\n",
      "15998/15998 [==============================] - 38s 2ms/step - loss: 0.6108 - acc: 0.7923 - f1_m: 0.7919 - precision_m: 0.8684 - recall_m: 0.7286 - val_loss: 0.7780 - val_acc: 0.7464 - val_f1_m: 0.7348 - val_precision_m: 0.8590 - val_recall_m: 0.6428\n",
      "Epoch 10/15\n",
      "15998/15998 [==============================] - 38s 2ms/step - loss: 0.5462 - acc: 0.8123 - f1_m: 0.8114 - precision_m: 0.8777 - recall_m: 0.7549 - val_loss: 0.8345 - val_acc: 0.7237 - val_f1_m: 0.7251 - val_precision_m: 0.8304 - val_recall_m: 0.6441\n",
      "Epoch 11/15\n",
      "15998/15998 [==============================] - 38s 2ms/step - loss: 0.5019 - acc: 0.8261 - f1_m: 0.8272 - precision_m: 0.8840 - recall_m: 0.7777 - val_loss: 0.7519 - val_acc: 0.7549 - val_f1_m: 0.7523 - val_precision_m: 0.8543 - val_recall_m: 0.6727\n",
      "Epoch 12/15\n",
      "15998/15998 [==============================] - 48s 3ms/step - loss: 0.4660 - acc: 0.8400 - f1_m: 0.8401 - precision_m: 0.8912 - recall_m: 0.7950 - val_loss: 0.7318 - val_acc: 0.7644 - val_f1_m: 0.7663 - val_precision_m: 0.8538 - val_recall_m: 0.6957\n",
      "Epoch 13/15\n",
      "15998/15998 [==============================] - 46s 3ms/step - loss: 0.4203 - acc: 0.8549 - f1_m: 0.8553 - precision_m: 0.9003 - recall_m: 0.8150 - val_loss: 0.8012 - val_acc: 0.7454 - val_f1_m: 0.7532 - val_precision_m: 0.8159 - val_recall_m: 0.7000\n",
      "Epoch 14/15\n",
      "15998/15998 [==============================] - 45s 3ms/step - loss: 0.3966 - acc: 0.8611 - f1_m: 0.8635 - precision_m: 0.9022 - recall_m: 0.8284 - val_loss: 0.7610 - val_acc: 0.7632 - val_f1_m: 0.7631 - val_precision_m: 0.8335 - val_recall_m: 0.7042\n",
      "Epoch 15/15\n",
      "15998/15998 [==============================] - 38s 2ms/step - loss: 0.3607 - acc: 0.8740 - f1_m: 0.8749 - precision_m: 0.9094 - recall_m: 0.8431 - val_loss: 0.8400 - val_acc: 0.7467 - val_f1_m: 0.7474 - val_precision_m: 0.8141 - val_recall_m: 0.6911\n"
     ]
    }
   ],
   "source": [
    "\n",
    "print('Training model.')\n",
    "\n",
    "# train a 1D convnet with global maxpooling\n",
    "sequence_input = Input(shape=(MAX_SEQUENCE_LENGTH,), dtype='int32')\n",
    "embedded_sequences = embedding_layer(sequence_input)\n",
    "x = Conv1D(128, 5, activation='relu')(embedded_sequences)\n",
    "x = Dropout(0.2)(x)\n",
    "x = MaxPooling1D(5)(x)\n",
    "x = Conv1D(128, 5, activation='relu')(x)\n",
    "x = Dropout(0.3)(x)\n",
    "x = MaxPooling1D(5)(x)\n",
    "x = Conv1D(128, 5, activation='relu')(x)\n",
    "x = GlobalMaxPooling1D()(x)\n",
    "x = Dense(128, activation='relu')(x)\n",
    "preds = Dense(len(labels_index), activation='softmax')(x)\n",
    "\n",
    "model = Model(sequence_input, preds)\n",
    "model.compile(loss='categorical_crossentropy',\n",
    "              optimizer='rmsprop',\n",
    "              metrics=['acc', f1_m, precision_m, recall_m])\n",
    "\n",
    "history = model.fit(x_train, y_train,\n",
    "          batch_size=128,\n",
    "          epochs=15,\n",
    "          validation_data=(x_val, y_val))"
   ]
  },
  {
   "cell_type": "code",
   "execution_count": 10,
   "metadata": {},
   "outputs": [
    {
     "data": {
      "image/png": "[encoded data removed]",
      "text/plain": [
       "<Figure size 432x288 with 1 Axes>"
      ]
     },
     "metadata": {
      "needs_background": "light"
     },
     "output_type": "display_data"
    }
   ],
   "source": [
    "# plot metrics\n",
    "pyplot.plot(history.history[\"f1_m\"],  label=\"f1 score\")\n",
    "pyplot.plot(history.history[\"precision_m\"], label=\"precision\")\n",
    "pyplot.plot(history.history[\"recall_m\"], label=\"recall\")\n",
    "pyplot.plot(history.history['acc'] , label=\"accuracy\")\n",
    "pyplot.title('Evaluation stats')\n",
    "pyplot.legend(loc=\"upper left\")\n",
    "pyplot.show()"
   ]
  },
  {
   "cell_type": "code",
   "execution_count": 11,
   "metadata": {},
   "outputs": [
    {
     "name": "stdout",
     "output_type": "stream",
     "text": [
      "Saved model to disk\n"
     ]
    }
   ],
   "source": [
    "\n",
    "# serialize model to JSON\n",
    "model_json = model.to_json()\n",
    "with open(\"model.json\", \"w\") as json_file:\n",
    "    json_file.write(model_json)\n",
    "# serialize weights to HDF5\n",
    "model.save_weights(\"model.h5\")\n",
    "print(\"Saved model to disk\")\n",
    "\n"
   ]
  },
  {
   "cell_type": "code",
   "execution_count": null,
   "metadata": {},
   "outputs": [],
   "source": [
    "\n",
    "# load json and create model\n",
    "json_file = open('model.json', 'r')\n",
    "loaded_model_json = json_file.read()\n",
    "json_file.close()\n",
    "loaded_model = model_from_json(loaded_model_json)\n",
    "# load weights into new model\n",
    "loaded_model.load_weights(\"model.h5\")\n",
    "print(\"Loaded model from disk\")\n",
    " \n",
    "# evaluate loaded model on test data\n",
    "loaded_model.compile(loss='categorical_crossentropy', optimizer='rmsprop', metrics=['accuracy'])\n",
    "score = loaded_model.evaluate(X, Y, verbose=0)\n",
    "print(\"%s: %.2f%%\" % (loaded_model.metrics_names[1], score[1]*100))"
   ]
  }
 ],
 "metadata": {
  "kernelspec": {
   "display_name": "Python 3",
   "language": "python",
   "name": "python3"
  },
  "language_info": {
   "codemirror_mode": {
    "name": "ipython",
    "version": 3
   },
   "file_extension": ".py",
   "mimetype": "text/x-python",
   "name": "python",
   "nbconvert_exporter": "python",
   "pygments_lexer": "ipython3",
   "version": "3.7.4"
  }
 },
 "nbformat": 4,
 "nbformat_minor": 2
}
